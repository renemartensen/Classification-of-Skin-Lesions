{
 "cells": [
  {
   "cell_type": "code",
   "execution_count": null,
   "metadata": {},
   "outputs": [],
   "source": [
    "import os\n",
    "\n",
    "\n",
    "train_dir = \"Data Set Ordered/training data\"\n",
    "\n",
    "# Dictionary to store counts for each subdirectory\n",
    "image_counts = {}\n",
    "total_count = 0\n",
    "\n",
    "# Loop over each subdirectory in the main directory\n",
    "for subdir in os.listdir(train_dir):\n",
    "    subdir_path = os.path.join(train_dir, subdir)\n",
    "    \n",
    "    # Check if it's a directory\n",
    "    if os.path.isdir(subdir_path):\n",
    "        # Count files in the subdirectory (assuming all files are images)\n",
    "        num_images = len([f for f in os.listdir(subdir_path) if os.path.isfile(os.path.join(subdir_path, f))])\n",
    "        \n",
    "        # Store the count in the dictionary\n",
    "        image_counts[subdir] = num_images\n",
    "        total_count += num_images\n",
    "\n",
    "\n",
    "weights = {}\n",
    "for subdir, count in image_counts.items():\n",
    "    weight = total_count / (7 * count)\n",
    "    weights.update({int(subdir.split(\"_\")[1]): weight})\n",
    "\n",
    "\n",
    "# Display the number of images in each subdirectory\n",
    "for subdir, weight in weights.items():\n",
    "    print(f\"{subdir}: {weight}\")\n",
    "\n",
    "\n",
    "model.fit(X_train, y_train, class_weight=weights, epochs=10, batch_size=32)"
   ]
  }
 ],
 "metadata": {
  "kernelspec": {
   "display_name": "Python 3",
   "language": "python",
   "name": "python3"
  },
  "language_info": {
   "name": "python",
   "version": "3.9.6"
  }
 },
 "nbformat": 4,
 "nbformat_minor": 2
}
